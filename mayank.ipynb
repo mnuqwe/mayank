{
  "nbformat": 4,
  "nbformat_minor": 0,
  "metadata": {
    "colab": {
      "name": "mayank",
      "version": "0.3.2",
      "provenance": [],
      "collapsed_sections": [],
      "include_colab_link": true
    },
    "kernelspec": {
      "name": "python3",
      "display_name": "Python 3"
    }
  },
  "cells": [
    {
      "cell_type": "markdown",
      "metadata": {
        "id": "view-in-github",
        "colab_type": "text"
      },
      "source": [
        "<a href=\"https://colab.research.google.com/github/mnuqwe/mayank/blob/master/mayank.ipynb\" target=\"_parent\"><img src=\"https://colab.research.google.com/assets/colab-badge.svg\" alt=\"Open In Colab\"/></a>"
      ]
    },
    {
      "metadata": {
        "id": "kyRhxlPIXWhs",
        "colab_type": "code",
        "colab": {}
      },
      "cell_type": "code",
      "source": [
        "import matplotlib.pyplot as pit\n",
        "import tensorflow as tf\n",
        "import numpy as np\n",
        "import pandas as pd\n",
        "from sklearn.preprocessing import LabelEncoder\n",
        "from sklearn.model_selection import train_test_split"
      ],
      "execution_count": 0,
      "outputs": []
    },
    {
      "metadata": {
        "id": "NjyTewKjZTIY",
        "colab_type": "code",
        "colab": {}
      },
      "cell_type": "code",
      "source": [
        "def read_dataset():\n",
        "  df = pd.read_csv()\n",
        "  X = df[df.columns[0:4]].values\n",
        "  y = df[df.column[4]]\n",
        "  \n",
        "  encoder = LabelEncoder()\n",
        "  endcoder.fit(y)\n",
        "  y = encoder.transform(y)\n",
        "  Y = one_hot_encode(y)\n",
        "  print(X.shape)\n",
        "  return (X,Y)\n",
        "\n",
        "def one_hot_encode(labels):\n",
        "  n_labels = len(labels)\n",
        "  n_unique_labels = len(np.unique(labels))\n",
        "  one_hot_encode = np.zeros((n_labels, n_unique_labels))\n",
        "  one_hot_encode[np.arrange(n_labels), labels] = 1\n",
        "  return one_hot_encode"
      ],
      "execution_count": 0,
      "outputs": []
    },
    {
      "metadata": {
        "id": "UUgU3T43oLci",
        "colab_type": "code",
        "colab": {}
      },
      "cell_type": "code",
      "source": [
        "X, Y = read_dataset()"
      ],
      "execution_count": 0,
      "outputs": []
    },
    {
      "metadata": {
        "id": "wxOyLannodXa",
        "colab_type": "code",
        "colab": {}
      },
      "cell_type": "code",
      "source": [
        "X, Y = shuffle(X, Y, random_state = 1)"
      ],
      "execution_count": 0,
      "outputs": []
    },
    {
      "metadata": {
        "id": "zASedPElovPS",
        "colab_type": "code",
        "colab": {}
      },
      "cell_type": "code",
      "source": [
        "train_x, test_x, train_y, test_y = train_test_split(X, Y,test_size=0.20, random_state = 415)"
      ],
      "execution_count": 0,
      "outputs": []
    },
    {
      "metadata": {
        "id": "m2w-1HL-ppkX",
        "colab_type": "code",
        "colab": {}
      },
      "cell_type": "code",
      "source": [
        "print(train_x.shape)\n",
        "print(train_y.shape)\n",
        "print(test_x.shape)"
      ],
      "execution_count": 0,
      "outputs": []
    },
    {
      "metadata": {
        "id": "cwGX5uS-qLy-",
        "colab_type": "code",
        "colab": {}
      },
      "cell_type": "code",
      "source": [
        "learning_rate = 0.3\n",
        "training_epochs = 100\n",
        "cost_history = np.empty(shape=[1], dtype = float)\n",
        "n_dim = X.shape[1]\n",
        "print(\"n_dim\", n_dim)\n",
        "n_class = 2\n",
        "model_path = \"\"\n"
      ],
      "execution_count": 0,
      "outputs": []
    },
    {
      "metadata": {
        "id": "NOzS-4wmtYvY",
        "colab_type": "code",
        "colab": {}
      },
      "cell_type": "code",
      "source": [
        "n_hidden_1 = 10\n",
        "n_hidden_2 = 10\n",
        "n_hidden_3 = 10\n",
        "n_hidden_4 = 10"
      ],
      "execution_count": 0,
      "outputs": []
    },
    {
      "metadata": {
        "id": "VgHkDqErtxhO",
        "colab_type": "code",
        "colab": {}
      },
      "cell_type": "code",
      "source": [
        "x = tf.paceholder(tf.float32,[None, n_dim])\n",
        "W = tf.Variable(tf.float32,[n_dim, n_class])\n",
        "b = tf.paceholder(tf.float32,[n_class])\n",
        "y_ = tf.paceholder(tf.float32,[None, n_class])"
      ],
      "execution_count": 0,
      "outputs": []
    },
    {
      "metadata": {
        "id": "r1sk8p8KEnvU",
        "colab_type": "code",
        "colab": {}
      },
      "cell_type": "code",
      "source": [
        "def multilayer_perceptron(x, weights, biases):\n",
        "  layer_1 = tf.add(tf.matmul(x, weights['h1']), biases['b1'])\n",
        "  layer_1 = tf.nn.sigmoid(layer_1)\n",
        "  layer_2 = tf.add(tf.matmul(layer_1, weights['h2']), biases['b2'])\n",
        "  layer_2 = tf.nn.sigmoid(layer_2)\n",
        "  layer_3 = tf.add(tf.matmul(layer_2, weights['h3']), biases['b3'])\n",
        "  layer_3 = tf.nn.sigmoid(layer_3)\n",
        "  layer_4 = tf.add(tf.matmul(layer_3, weights['h4']), biases['b4'])\n",
        "  layer_4 = tf.nn.relu(layer_4)\n",
        "  out_layer = tf.matmul(layer_4, weights['out']) + biases['out']\n",
        "  return out_layer"
      ],
      "execution_count": 0,
      "outputs": []
    },
    {
      "metadata": {
        "id": "PkEZyG7TlRDW",
        "colab_type": "code",
        "colab": {}
      },
      "cell_type": "code",
      "source": [
        "weights = {\n",
        "    'h1' : tf.Variable(tf.truncated_normal([n_dim,n_hidden_1])),\n",
        "    'h2' : tf.Variable(tf.truncated_normal([n_hidden_1,n_hidden_2])),\n",
        "    'h3' : tf.Variable(tf.truncated_normal([n_hidden_2,n_hidden_3])),\n",
        "    'h4' : tf.Variable(tf.truncated_normal([n_hidden_3,n_hidden_4])),\n",
        "    'out' : tf.Variable(tf.truncated_normal([n_hidden_4,n_class])),\n",
        "}\n",
        "biases = {\n",
        "    'b1' : tf.Variable(tf.truncated_normal([n_hidden_1])),\n",
        "    'b2' : tf.Variable(tf.truncated_normal([n_hidden_2])),\n",
        "    'b3' : tf.Variable(tf.truncated_normal([n_hidden_3])),\n",
        "    'b4' : tf.Variable(tf.truncated_normal([n_hidden_4])),\n",
        "    'out' : tf.Variable(tf.truncated_normal([n_class])),\n",
        "\n",
        "}"
      ],
      "execution_count": 0,
      "outputs": []
    },
    {
      "metadata": {
        "id": "-6Al0CTOGxYG",
        "colab_type": "code",
        "colab": {}
      },
      "cell_type": "code",
      "source": [
        "init = tf.global_variables_initializer()\n",
        "saver = tf.train.Saver()"
      ],
      "execution_count": 0,
      "outputs": []
    },
    {
      "metadata": {
        "id": "6ipe84pjHEad",
        "colab_type": "code",
        "colab": {}
      },
      "cell_type": "code",
      "source": [
        "y = multilayer_perceptron(x, weights, biases)"
      ],
      "execution_count": 0,
      "outputs": []
    },
    {
      "metadata": {
        "id": "c26h8RFZHa8e",
        "colab_type": "code",
        "colab": {}
      },
      "cell_type": "code",
      "source": [
        "cost_function = tf.reduce_mean(tf.nn.softmax_cross_entropy_with_logits(logits=y, lables=y_))\n",
        "training_step = tf.train.GradientDescentOptimizer(learning_rate).minimize(cost_function)"
      ],
      "execution_count": 0,
      "outputs": []
    },
    {
      "metadata": {
        "id": "0zFEdm8KIaoq",
        "colab_type": "code",
        "colab": {}
      },
      "cell_type": "code",
      "source": [
        "sess = tf.Session()\n",
        "sess.run(init)"
      ],
      "execution_count": 0,
      "outputs": []
    },
    {
      "metadata": {
        "id": "DPEBeP_SIm8B",
        "colab_type": "code",
        "colab": {}
      },
      "cell_type": "code",
      "source": [
        "mse_history = []\n",
        "accuracy_history = []"
      ],
      "execution_count": 0,
      "outputs": []
    },
    {
      "metadata": {
        "id": "PJ2NJAk2o-gU",
        "colab_type": "code",
        "colab": {}
      },
      "cell_type": "code",
      "source": [
        "for epoch in range(training_epochs):\n",
        "  sess.run(training_step, feed_dict={x: train_x, y_: train_y})\n",
        "  cost = sess.run(cost_function,feed_dict={x: train_x, y_: train_y})\n",
        "  cost_history = np.append(cost_history, cost)\n",
        "  correct_prediction = tf.equal(tf.argmax(y, 1), tf.argmax(y_, 1))\n",
        "  accuracy = tf.reduce_mean(tf.cast(correct_prediction, float32))\n",
        "  pred_y =sess.run(y, feed_dict={x: test_x})\n",
        "  mse = tf.reduce_mean(tf.square(pred_y-test_y))\n",
        "  mse_=sess.run(mse)\n",
        "  mse_history.append(mse_)\n",
        "  accuracy = (sess.run(accuracy, feed_dict={x: train_x, y_:train_y}))\n",
        "  accuracy_history.append(accuracy)\n",
        "  \n",
        "  print('epoch : ', epoch, ' - ', 'cost : ', cost,\"- MSE: \", mse_,\"Train Accuracy: \", accuracy)"
      ],
      "execution_count": 0,
      "outputs": []
    },
    {
      "metadata": {
        "id": "TM7AqUqZfSHr",
        "colab_type": "code",
        "colab": {}
      },
      "cell_type": "code",
      "source": [
        "saver_path = saver.saves(sess, model_path)\n",
        "print(\"Model saved in file: %s\" % save_path)"
      ],
      "execution_count": 0,
      "outputs": []
    },
    {
      "metadata": {
        "id": "WbUf_Y-Efy1K",
        "colab_type": "code",
        "colab": {}
      },
      "cell_type": "code",
      "source": [
        "plt.plot(accuracy_history)\n",
        "plt.xlabel('Epoch')\n",
        "plt.ylabel('Accuracy')\n",
        "plt.show()"
      ],
      "execution_count": 0,
      "outputs": []
    },
    {
      "metadata": {
        "id": "CPiVSYj3gNAT",
        "colab_type": "code",
        "colab": {}
      },
      "cell_type": "code",
      "source": [
        "correct_prediction = tf.equal(tf.argmax(y, 1), tf.argmax(y_, 1))\n",
        "accuracy = tf.reduce_mean(tf.cast(correct_prediction, tf.float32))\n",
        "print (\"Test Accuracy: \", (sess.run(accuracy, feed_dict={x: test_x, y_:test_y})))"
      ],
      "execution_count": 0,
      "outputs": []
    },
    {
      "metadata": {
        "id": "1Rb8mQ00hn2B",
        "colab_type": "code",
        "colab": {}
      },
      "cell_type": "code",
      "source": [
        "pred_y = sess.run(y, feed_dict={x: test_x})\n",
        "mse = tf.reduce_mean(tf.square(pred_y - test_y))\n",
        "print (\"MSE: %.4f\" % sess.run(mse))"
      ],
      "execution_count": 0,
      "outputs": []
    }
  ]
}